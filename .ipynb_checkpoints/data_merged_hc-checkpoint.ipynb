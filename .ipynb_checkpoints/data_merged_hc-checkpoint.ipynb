{
 "cells": [
  {
   "cell_type": "code",
   "execution_count": 3,
   "id": "2d89a651-93f6-42d5-936e-fe999421ac54",
   "metadata": {},
   "outputs": [],
   "source": [
    "import pandas as pd\n",
    "import os\n",
    "\n",
    "# 1. 전처리된 파일 불러오기 (영문 파일명 기준)\n",
    "pedestrian = pd.read_csv(\"data/first_processing_data/pedestrain_processing.csv\")\n",
    "hitrun = pd.read_csv(\"data/first_processing_data/hit_and_run_processing.csv\")\n",
    "bicycle = pd.read_csv(\"data/first_processing_data/bike_processing.csv\")\n",
    "public = pd.read_csv(\"data/first_processing_data/transportation_processing.csv\")\n",
    "\n",
    "# 2nd_combined_data에서 형식 맞추고 거주인구, 사고건수 빼내기\n",
    "df = pd.read_csv(\"data/merged_data/Basic_model.csv\")\n",
    "df = df.rename(columns={\"구\": \"자치구\"})\n",
    "df[\"연도\"] = pd.to_datetime(df[\"연월\"]).dt.year\n",
    "\n",
    "grouped = df.groupby([\"연도\", \"자치구\"])[[\"거주인구\", \"발생건수\"]].mean().reset_index()\n",
    "grouped[\"거주인구\"] = grouped[\"거주인구\"].fillna(0).astype(int)\n",
    "grouped[\"발생건수\"] = grouped[\"발생건수\"].fillna(0).astype(int)\n",
    "\n",
    "residence = grouped.rename(columns={\"발생건수\": \"교통사고 발생건수\"})\n",
    "\n",
    "# 2. 병합 (연도 + 자치구 기준, 순차 병합)\n",
    "merged = pedestrian.merge(hitrun, on=[\"연도\", \"자치구\"], how=\"outer\")\n",
    "merged = merged.merge(bicycle, on=[\"연도\", \"자치구\"], how=\"outer\")\n",
    "merged = merged.merge(public, on=[\"연도\", \"자치구\"], how=\"outer\")\n",
    "merged = merged.merge(residence, on=[\"연도\", \"자치구\"], how=\"outer\")\n",
    "\n",
    "# 3. 결측값 처리\n",
    "merged = merged.fillna(0)\n",
    "\n",
    "# 4. 정렬: 자치구 → 연도\n",
    "merged = merged.sort_values(by=[\"자치구\", \"연도\"]).reset_index(drop=True)\n",
    "\n",
    "# 5. 열 순서 재배치 (거주인구, 사고건수 → 자치구 뒤로)\n",
    "columns = merged.columns.tolist()\n",
    "reordered_cols = ['연도', '자치구']\n",
    "if '거주인구' in columns and '교통사고 발생건수' in columns:\n",
    "    reordered_cols += ['거주인구', '교통사고 발생건수']\n",
    "remaining_cols = [col for col in columns if col not in reordered_cols]\n",
    "reordered_cols += remaining_cols\n",
    "\n",
    "df_final = merged[reordered_cols]\n",
    "\n",
    "# 6. 저장: 단 하나의 최종 통합 파일\n",
    "output_path = \"data/merged_data/Accident_by_year_merged_hc.csv\"\n",
    "os.makedirs(os.path.dirname(output_path), exist_ok=True)\n",
    "df_final.to_csv(output_path, index=False, encoding=\"utf-8-sig\")"
   ]
  },
  {
   "cell_type": "code",
   "execution_count": null,
   "id": "3edb113d-61e3-4609-8b93-af69291eab24",
   "metadata": {},
   "outputs": [],
   "source": []
  }
 ],
 "metadata": {
  "kernelspec": {
   "display_name": "Python [conda env:base] *",
   "language": "python",
   "name": "conda-base-py"
  },
  "language_info": {
   "codemirror_mode": {
    "name": "ipython",
    "version": 3
   },
   "file_extension": ".py",
   "mimetype": "text/x-python",
   "name": "python",
   "nbconvert_exporter": "python",
   "pygments_lexer": "ipython3",
   "version": "3.12.7"
  }
 },
 "nbformat": 4,
 "nbformat_minor": 5
}
