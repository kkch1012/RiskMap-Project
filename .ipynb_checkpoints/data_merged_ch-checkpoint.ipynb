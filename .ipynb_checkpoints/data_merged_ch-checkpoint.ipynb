{
 "cells": [
  {
   "cell_type": "code",
   "execution_count": 2,
   "id": "54a3b9b0-6d82-4774-943f-18e30678a4c7",
   "metadata": {},
   "outputs": [],
   "source": [
    "import pandas as pd\n",
    "from itertools import product"
   ]
  },
  {
   "cell_type": "code",
   "execution_count": 4,
   "id": "4a5898c2-872f-4045-9258-6fbaed078468",
   "metadata": {},
   "outputs": [
    {
     "name": "stdout",
     "output_type": "stream",
     "text": [
      "     구       연월      거주인구  지하철_승객_수\n",
      "0  강남구  2008-01  570959.0       NaN\n",
      "1  강남구  2008-02  570959.0       NaN\n",
      "2  강남구  2008-03  570959.0       NaN\n",
      "3  강남구  2008-04  570755.0       NaN\n",
      "4  강남구  2008-05  570755.0       NaN\n"
     ]
    }
   ],
   "source": [
    "df_resident = pd.read_csv('data/first_processing_data/Resident_population_preprocessing.csv')    \n",
    "df_subway = pd.read_csv('data/first_processing_data/Subway_move_people.csv')\n",
    "\n",
    "df_merged = pd.merge(df_resident, df_subway, on=['구', '연월'], how='outer')\n",
    "\n",
    "df_merged.to_csv('data/merged_data/Population_merged.csv',encoding='utf-8-sig', index=False)\n",
    "\n",
    "print(df_merged.head())"
   ]
  },
  {
   "cell_type": "code",
   "execution_count": 6,
   "id": "af20d882-8b89-4060-bdec-de35c5f1beb9",
   "metadata": {},
   "outputs": [],
   "source": [
    "df_people_flow = pd.read_csv('data/merged_data/Population_merged.csv')\n",
    "df_weather = pd.read_csv('data/first_processing_data/Weather_preprocessing.csv')\n",
    "df_weather.fillna(0, inplace=True)\n",
    "\n",
    "all_dates = sorted(df_weather['연월'].dropna().unique())\n",
    "gu_list = sorted(df_people_flow['구'].dropna().unique())\n",
    "\n",
    "gu_month_combinations = pd.DataFrame(list(product(gu_list, all_dates)), columns=['구', '연월'])\n",
    "\n",
    "df_weather_expanded = pd.merge(gu_month_combinations, df_weather, on='연월', how='left')\n",
    "df_merged_all = pd.merge(df_people_flow, df_weather_expanded, on=['구', '연월'], how='outer')\n",
    "\n",
    "df_merged_all.to_csv('data/merged_data/Population_weather_merged.csv', index=False, encoding='utf-8-sig')"
   ]
  },
  {
   "cell_type": "code",
   "execution_count": 8,
   "id": "7d9de3e8-7aec-4784-a10c-d7c9b2f77169",
   "metadata": {},
   "outputs": [],
   "source": [
    "df_merged = pd.read_csv('data/merged_data/Population_weather_merged.csv')\n",
    "df_bus = pd.read_csv('data/first_processing_data/Bus_accident_total_data_preprocessing.csv')\n",
    "\n",
    "df_bus = df_bus.rename(columns={'자치구': '구', '년월': '연월'})\n",
    "\n",
    "weather_cols = ['평균기온', '평균최고기온', '극점최고기온', '평균최저기온', '극점최저기온',\n",
    "                '강수량', '평균습도', '최저습도', '해면기압', '이슬점온도', '평균운량',\n",
    "                '일조시간', '최심신적설', '평균풍속', '최대풍속', '최대순간풍속']\n",
    "\n",
    "non_weather_cols = [col for col in df_merged.columns if col not in weather_cols]\n",
    "df_reordered = pd.concat([df_merged[non_weather_cols], df_merged[weather_cols]], axis=1)\n",
    "\n",
    "df_temp = pd.merge(df_reordered, df_bus, on=['구', '연월'], how='left')\n",
    "\n",
    "bus_cols = [col for col in df_bus.columns if col not in ['구', '연월']]\n",
    "subway_idx = df_temp.columns.get_loc('지하철_승객_수') + 1\n",
    "\n",
    "cols = list(df_temp.columns)\n",
    "for col in bus_cols:\n",
    "    cols.remove(col)\n",
    "for i, col in enumerate(bus_cols):\n",
    "    cols.insert(subway_idx + i, col)\n",
    "\n",
    "df_final = df_temp[cols]\n",
    "df_final.to_csv('data/merged_data/Total_data.csv', index=False,encoding='utf-8-sig')"
   ]
  },
  {
   "cell_type": "code",
   "execution_count": 12,
   "id": "20f56bcf-52d1-4b67-b38a-d85257569fe6",
   "metadata": {},
   "outputs": [],
   "source": [
    "df_transportation = pd.read_csv('data/first_processing_data/Transportation_preprocessing_month.csv')\n",
    "df_merged = pd.read_csv('data/merged_data/Total_data.csv')\n",
    "\n",
    "df_transportation['연월'] = pd.to_datetime(df_transportation['연월'])\n",
    "df_merged['연월'] = pd.to_datetime(df_merged['연월'])\n",
    "\n",
    "df_merged = pd.merge(df_merged, df_transportation, on=['구', '연월'], how='left')\n",
    "\n",
    "weather_cols = ['평균기온', '평균최고기온', '극점최고기온', '평균최저기온', '극점최저기온',\n",
    "                '강수량', '평균습도', '최저습도', '해면기압', '이슬점온도', '평균운량',\n",
    "                '일조시간', '최심신적설', '평균풍속', '최대풍속', '최대순간풍속']\n",
    "\n",
    "cols = list(df_merged.columns)\n",
    "cols.remove('대중교통_승객_수')\n",
    "insert_idx = cols.index(weather_cols[0])\n",
    "cols.insert(insert_idx, '대중교통_승객_수')\n",
    "\n",
    "df_merged = df_merged[cols]\n",
    "df_merged.to_csv('data/merged_data/Total_transportation_merged.csv', index=False, encoding='utf-8-sig')"
   ]
  },
  {
   "cell_type": "code",
   "execution_count": 14,
   "id": "beddb307-95b6-44d6-985f-4092b2b5fb86",
   "metadata": {},
   "outputs": [],
   "source": [
    "df = pd.read_csv('data/merged_data/Total_transportation_merged.csv')\n",
    "\n",
    "df['연월'] = pd.to_datetime(df['연월'], errors='coerce')\n",
    "df = df[df['연월'] != pd.to_datetime('2025-04')]\n",
    "\n",
    "target_dates = [pd.to_datetime('2021-11'), pd.to_datetime('2021-12')]\n",
    "df.loc[df['연월'].isin(target_dates), ['대중교통_승객_수', '지하철_승객_수']] = None\n",
    "\n",
    "cols = list(df.columns)\n",
    "cols.remove('대중교통_승객_수')\n",
    "bus_idx = cols.index('버스승객수') + 1\n",
    "cols.insert(bus_idx, '대중교통_승객_수')\n",
    "df = df[cols]\n",
    "\n",
    "df.to_csv('data/merged_data/Total_transportation_merged_preprocessing.csv', index=False, encoding='utf-8-sig')"
   ]
  },
  {
   "cell_type": "code",
   "execution_count": 16,
   "id": "ade48b4f-96a4-488e-aa07-8f1174770ac4",
   "metadata": {},
   "outputs": [],
   "source": [
    "df_traffic = pd.read_csv(\"data/first_processing_data/Traffic_accident_month_preprocessing.csv\")\n",
    "df = pd.read_csv('data/merged_data/Total_transportation_merged_preprocessing.csv')\n",
    "\n",
    "df['연월'] = pd.to_datetime(df['연월'])\n",
    "df_traffic['연월'] = pd.to_datetime(df_traffic['연월'])\n",
    "\n",
    "df_merged = pd.merge(\n",
    "    df.drop(columns=['발생건수', '사망자수', '부상자수'], errors='ignore'),\n",
    "    df_traffic[['구', '연월', '발생건수', '사망자수', '부상자수']],\n",
    "    on=['구', '연월'],\n",
    "    how='outer'\n",
    ")\n",
    "\n",
    "final_column_order = [\n",
    "    '구', '연월', '거주인구', '지하철_승객_수', '버스승객수', '대중교통_승객_수', '발생건수', '사망자수',\n",
    "    '부상자수', '평균기온', '평균최고기온', '극점최고기온', '평균최저기온', '극점최저기온', '강수량', '평균습도',\n",
    "    '최저습도', '해면기압', '이슬점온도', '평균운량', '일조시간', '최심신적설', '평균풍속', '최대풍속',\n",
    "    '최대순간풍속'\n",
    "]\n",
    "\n",
    "df_merged = df_merged[final_column_order]\n",
    "\n",
    "df_merged.to_csv('data/merged_data/Total_updated_data.csv', index=False, encoding='utf-8-sig')"
   ]
  },
  {
   "cell_type": "code",
   "execution_count": 18,
   "id": "f8c2b151-ea97-4dbb-ad8e-5d512d75fee4",
   "metadata": {},
   "outputs": [],
   "source": [
    "df = pd.read_csv(\"data/merged_data/Total_updated_data.csv\")\n",
    "df_basic = df[\n",
    "    ['구', '연월', '거주인구', '발생건수', '사망자수', '부상자수',\n",
    "     '평균기온', '평균최고기온', '극점최고기온', '평균최저기온', '극점최저기온',\n",
    "     '강수량', '평균습도', '최저습도', '해면기압', '이슬점온도',\n",
    "     '평균운량', '일조시간', '최심신적설', '평균풍속', '최대풍속', '최대순간풍속']\n",
    "]\n",
    "df_basic.to_csv(\"data/merged_data/Basic_model.csv\",encoding='utf-8-sig',index=False)"
   ]
  },
  {
   "cell_type": "code",
   "execution_count": 20,
   "id": "8e5e80e9-b747-4a6a-af9e-45ada5acae0f",
   "metadata": {},
   "outputs": [
    {
     "name": "stdout",
     "output_type": "stream",
     "text": [
      "병합 완료. 결과가 'data/merged_data/merged_result.csv'에 저장되었습니다.\n"
     ]
    }
   ],
   "source": [
    "file1_path = \"data/merged_data/Accident_by_year_merged_hc.csv\"\n",
    "file2_path = \"data/merged_data/merged_final.csv\"\n",
    "output_path = \"data/merged_data/merged_result.csv\"\n",
    "\n",
    "# CSV 파일 불러오기\n",
    "df1 = pd.read_csv(file1_path)\n",
    "df2 = pd.read_csv(file2_path)\n",
    "\n",
    "# 컬럼명 통일: 자치구 → 구\n",
    "if '자치구' in df1.columns:\n",
    "    df1.rename(columns={'자치구': '구'}, inplace=True)\n",
    "if '자치구' in df2.columns:\n",
    "    df2.rename(columns={'자치구': '구'}, inplace=True)\n",
    "\n",
    "# merged_final의 불필요한 컬럼 제거\n",
    "columns_to_drop = ['거주인구', '버스승객수', '승객수', '발생건수', '부상자수']\n",
    "df2.drop(columns=[col for col in columns_to_drop if col in df2.columns], inplace=True)\n",
    "\n",
    "# 병합 수행 ('구', '연도' 기준)\n",
    "df_merged = pd.merge(df1, df2, on=['구', '연도'], how='outer')\n",
    "\n",
    "# 병합 결과에서 필요 없는 컬럼 제거\n",
    "df_merged.drop(columns=['대중교통_승객수'], inplace=True)\n",
    "\n",
    "# 결과 저장\n",
    "df_merged.to_csv(output_path, index=False, encoding='utf-8-sig')\n",
    "\n",
    "print(f\"병합 완료. 결과가 '{output_path}'에 저장되었습니다.\")\n"
   ]
  },
  {
   "cell_type": "code",
   "execution_count": 24,
   "id": "55307b32-fcdd-4298-9807-9e9c26c20d2f",
   "metadata": {},
   "outputs": [],
   "source": [
    "df_result = pd.read_csv(\"data/merged_data/merged_result.csv\")\n",
    "df_basic = pd.read_csv(\"data/regression_data/Basic_model_preprocessing.csv\")\n",
    "\n",
    "df_basic['연월'] = pd.to_datetime(df_basic['연월'], errors='coerce')\n",
    "df_basic['연도'] = df_basic['연월'].dt.year\n",
    "df_basic['월'] = df_basic['연월'].dt.month\n",
    "\n",
    "df_filtered = df_basic[\n",
    "    df_basic['연도'].isin([2005, 2006, 2007]) & \n",
    "    (df_basic['월'] == 1)\n",
    "][['구', '연도', '거주인구']]\n",
    "\n",
    "df_merged = pd.merge(df_result, df_filtered, on=['구', '연도'], how='left', suffixes=('', '_추가'))\n",
    "\n",
    "df_merged['거주인구'] = df_merged.apply(\n",
    "    lambda row: row['거주인구_추가'] if pd.isna(row['거주인구']) or row['거주인구'] == 0 else row['거주인구'],\n",
    "    axis=1\n",
    ")\n",
    "\n",
    "df_merged.drop(columns=['거주인구_추가'], inplace=True)\n",
    "\n",
    "df_merged.to_csv(\"data/merged_data/merged_result_updated.csv\", encoding='utf-8-sig', index=False)"
   ]
  },
  {
   "cell_type": "code",
   "execution_count": 26,
   "id": "5c6cdf95-7045-423d-9b07-9ca6b0b85df5",
   "metadata": {},
   "outputs": [],
   "source": [
    "import pandas as pd\n",
    "import numpy as np\n",
    "\n",
    "df = pd.read_csv(\"data/merged_data/merged_result_updated.csv\", encoding='utf-8-sig')\n",
    "\n",
    "weather_cols = [\n",
    "    '눈_발생건수', '맑음_발생건수', '비_발생건수', '흐림_발생건수',\n",
    "    '눈_사상자수', '맑음_사상자수', '비_사상자수', '흐림_사상자수'\n",
    "]\n",
    "df.loc[df['연도'].between(2005, 2012), weather_cols] = df.loc[df['연도'].between(2005, 2012), weather_cols].replace(0, np.nan)\n",
    "\n",
    "df.loc[df['연도'] == 2005, '화재_소계'] = df.loc[df['연도'] == 2005, '화재_소계'].replace(0, np.nan)\n",
    "\n",
    "vehicle_cols = [\n",
    "    '승용계_발생건수', '승용계_사상자수',\n",
    "    '버스계_발생건수', '버스계_사상자수',\n",
    "    '화물계_발생건수', '화물계_사상자수'\n",
    "]\n",
    "df.loc[df['연도'].between(2005, 2016), vehicle_cols] = df.loc[df['연도'].between(2005, 2016), vehicle_cols].replace(0, np.nan)\n",
    "\n",
    "df.loc[df['연도'].between(2024, 2025)] = df.loc[df['연도'].between(2024, 2025)].replace(0, np.nan)\n",
    "\n",
    "df.to_csv(\"data/merged_data/merged_result_updated_last.csv\", encoding='utf-8-sig', index=False)"
   ]
  },
  {
   "cell_type": "code",
   "execution_count": 28,
   "id": "d6199df4-de92-43f2-888d-0966fdf1d70a",
   "metadata": {},
   "outputs": [],
   "source": [
    "df_metrics = pd.read_csv(\"data/first_processing_data/Traffic_accidents_multi_metric_tidy.csv\", encoding=\"utf-8-sig\")\n",
    "\n",
    "df_pivot = df_metrics.pivot_table(\n",
    "    index=[\"year\", \"district\"],\n",
    "    columns=\"metric\",\n",
    "    values=\"value\"\n",
    ").reset_index()\n",
    "\n",
    "df_pivot = df_pivot.rename(columns={\n",
    "    \"year\": \"연도\",\n",
    "    \"district\": \"구\",\n",
    "    \"발생건수 (건)\": \"발생건수\",\n",
    "    \"부상자수 (명)\": \"부상자수\",\n",
    "    \"사망자수 (명)\": \"사망자수\"\n",
    "})\n",
    "\n",
    "df_merged = pd.read_csv(\"data/merged_data/merged_result_updated_last.csv\", encoding=\"utf-8-sig\")\n",
    "\n",
    "df_merged = df_merged.drop(columns=[\"발생건수\"], errors=\"ignore\")\n",
    "\n",
    "df_combined = pd.merge(df_merged, df_pivot, on=[\"연도\", \"구\"], how=\"left\")\n",
    "\n",
    "cols_to_drop = [\n",
    "    \"교통사고 발생건수\",\n",
    "    \"인구 10만명당 부상자수 (명)_y\",\n",
    "    \"인구 10만명당 사망자수 (명)_y\",\n",
    "    \"자동차 1만대당 발생건수 (건)_y\"\n",
    "]\n",
    "df_combined = df_combined.drop(columns=cols_to_drop, errors=\"ignore\")\n",
    "\n",
    "df_combined.to_csv(\"data/merged_data/merged_result_with_metrics.csv\", index=False, encoding=\"utf-8-sig\")\n"
   ]
  },
  {
   "cell_type": "code",
   "execution_count": null,
   "id": "f71df2f8-f734-48f4-9533-a7bd8040828f",
   "metadata": {},
   "outputs": [],
   "source": []
  }
 ],
 "metadata": {
  "kernelspec": {
   "display_name": "Python [conda env:base] *",
   "language": "python",
   "name": "conda-base-py"
  },
  "language_info": {
   "codemirror_mode": {
    "name": "ipython",
    "version": 3
   },
   "file_extension": ".py",
   "mimetype": "text/x-python",
   "name": "python",
   "nbconvert_exporter": "python",
   "pygments_lexer": "ipython3",
   "version": "3.12.7"
  }
 },
 "nbformat": 4,
 "nbformat_minor": 5
}
