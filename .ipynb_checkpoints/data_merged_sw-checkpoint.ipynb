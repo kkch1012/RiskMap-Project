{
 "cells": [
  {
   "cell_type": "code",
   "execution_count": 1,
   "id": "1f25931b",
   "metadata": {},
   "outputs": [
    {
     "name": "stdout",
     "output_type": "stream",
     "text": [
      "저장완료\n"
     ]
    }
   ],
   "source": [
    "#버스 전체 데이터 (2005~2025)\n",
    "\n",
    "#교통사고 + 버스승객수 데이터 병합\n",
    "import pandas as pd\n",
    "\n",
    "\n",
    "bus_df = pd.read_csv(\"data/first_processing_data/Seoul_bus_preprocessing.csv\", encoding=\"utf-8-sig\")\n",
    "accident_df = pd.read_csv(\"data/first_processing_data/Traffic_accident_month_preprocessing.csv\", encoding=\"utf-8-sig\")\n",
    "\n",
    "bus_df = bus_df.rename(columns={\"자치구_명칭\": \"자치구\"})  # 혹시 모를 컬럼명 이슈 예방\n",
    "accident_df = accident_df.rename(columns={\"구\": \"자치구\", \"연월\": \"년월\"})\n",
    "\n",
    "accident_df[\"년월\"] = accident_df[\"년월\"].astype(str).apply(\n",
    "    lambda x: f\"{x.split('-')[0]}-{x.split('-')[1].zfill(2)}\"\n",
    ")\n",
    "\n",
    "for df in [bus_df, accident_df]:\n",
    "    df[\"자치구\"] = df[\"자치구\"].astype(str)\n",
    "    df[\"년월\"] = df[\"년월\"].astype(str)\n",
    "\n",
    "gu_list = accident_df[\"자치구\"].unique()\n",
    "full_months = [f\"{y}-{m:02d}\" for y in range(2005, 2026) for m in range(1, 13)]\n",
    "full_months = full_months[:(2025 - 2005) * 12 + 4]\n",
    "full_index = pd.MultiIndex.from_product([gu_list, full_months], names=[\"자치구\", \"년월\"])\n",
    "base_df = pd.DataFrame(index=full_index).reset_index()\n",
    "\n",
    "base_df[\"자치구\"] = base_df[\"자치구\"].astype(str)\n",
    "base_df[\"년월\"] = base_df[\"년월\"].astype(str)\n",
    "base_df = pd.merge(base_df, accident_df, on=[\"자치구\", \"년월\"], how=\"left\")\n",
    "base_df[[\"발생건수\", \"사망자수\", \"부상자수\"]] = base_df[[\"발생건수\", \"사망자수\", \"부상자수\"]].fillna(0)\n",
    "\n",
    "final_df = pd.merge(base_df, bus_df, on=[\"자치구\", \"년월\"], how=\"left\")\n",
    "final_df[\"버스승객수\"] = final_df[\"버스승객수\"].fillna(0)\n",
    "final_df = final_df.sort_values(by=[\"자치구\", \"년월\"]).reset_index(drop=True)\n",
    "final_df.to_csv(\"data/merged_data/Bus_accident_total_data.csv\", index=False, encoding=\"utf-8-sig\")\n",
    "\n",
    "print(\"저장완료\")"
   ]
  },
  {
   "cell_type": "code",
   "execution_count": 3,
   "id": "a7aa6ca2-d9be-4fb7-8782-6ad424fb927c",
   "metadata": {},
   "outputs": [
    {
     "name": "stdout",
     "output_type": "stream",
     "text": [
      "저장완료\n"
     ]
    }
   ],
   "source": [
    "import pandas as pd\n",
    "\n",
    "bus_df = pd.read_csv(\"data/first_processing_data/Seoul_bus_preprocessing.csv\", encoding=\"utf-8-sig\")\n",
    "accident_df = pd.read_csv(\"data/first_processing_data/Traffic_accident_month_preprocessing.csv\", encoding=\"utf-8-sig\")\n",
    "\n",
    "bus_df = bus_df.rename(columns={\"자치구\": \"구\"})\n",
    "bus_df = bus_df[~bus_df[\"구\"].astype(str).str.contains(\"소계|합계\", na=False)]\n",
    "accident_df = accident_df[~accident_df[\"구\"].astype(str).str.contains(\"소계|합계\", na=False)]\n",
    "\n",
    "bus_df[\"년월\"] = \"'\" + bus_df[\"년월\"].astype(str).str.replace(\"-\", \".\").str[:7]\n",
    "accident_df[\"년월\"] = \"'\" + accident_df[\"연월\"].astype(str).str.replace(\"-\", \".\").str[:7]\n",
    "\n",
    "merged = pd.merge(bus_df, accident_df, on=[\"년월\", \"구\"], how=\"outer\")\n",
    "merged = merged.fillna(0)\n",
    "merged[[\"버스승객수\", \"발생건수\", \"사망자수\", \"부상자수\"]] = \\\n",
    "    merged[[\"버스승객수\", \"발생건수\", \"사망자수\", \"부상자수\"]].astype(int)\n",
    "\n",
    "merged = merged.rename(columns={\"구\": \"자치구\"})\n",
    "merged = merged[[\"자치구\", \"년월\", \"버스승객수\", \"발생건수\", \"사망자수\", \"부상자수\"]]\n",
    "\n",
    "merged[\"연도\"] = merged[\"년월\"].str.extract(r\"(\\d{4})\").astype(int)\n",
    "merged = merged[(merged[\"연도\"] >= 2017) & (merged[\"연도\"] <= 2025)].drop(columns=[\"연도\"])\n",
    "\n",
    "gu_order = [\n",
    "    \"강남구\", \"강동구\", \"강북구\", \"강서구\", \"관악구\", \"광진구\", \"구로구\", \"금천구\",\n",
    "    \"노원구\", \"도봉구\", \"동대문구\", \"동작구\", \"마포구\", \"서대문구\", \"서초구\", \"성동구\",\n",
    "    \"성북구\", \"송파구\", \"양천구\", \"영등포구\", \"용산구\", \"은평구\", \"종로구\", \"중구\", \"중랑구\"\n",
    "]\n",
    "merged[\"자치구\"] = pd.Categorical(merged[\"자치구\"], categories=gu_order, ordered=True)\n",
    "merged = merged.sort_values([\"자치구\", \"년월\"]).reset_index(drop=True)\n",
    "merged = merged[merged[\"자치구\"].notna() & (merged[\"자치구\"].astype(str).str.strip() != \"\")]\n",
    "\n",
    "subtotal = (\n",
    "    merged.groupby(\"년월\")[[\"버스승객수\", \"발생건수\", \"사망자수\", \"부상자수\"]]\n",
    "    .sum()\n",
    "    .reset_index()\n",
    ")\n",
    "subtotal[\"자치구\"] = \"소계\"\n",
    "subtotal = subtotal[[\"자치구\", \"년월\", \"버스승객수\", \"발생건수\", \"사망자수\", \"부상자수\"]]\n",
    "\n",
    "subtotal[\"연도\"] = subtotal[\"년월\"].str.extract(r\"(\\d{4})\").astype(int)\n",
    "subtotal = subtotal[(subtotal[\"연도\"] >= 2017) & (subtotal[\"연도\"] <= 2025)].drop(columns=[\"연도\"])\n",
    "\n",
    "merged_with_subtotal = pd.concat([merged, subtotal], ignore_index=True)\n",
    "merged_with_subtotal[\"자치구\"] = pd.Categorical(\n",
    "    merged_with_subtotal[\"자치구\"],\n",
    "    categories=gu_order + [\"소계\"],\n",
    "    ordered=True\n",
    ")\n",
    "merged_with_subtotal = merged_with_subtotal.sort_values([\"자치구\", \"년월\"]).reset_index(drop=True)\n",
    "merged_with_subtotal.to_csv(\"data/merged_data/Bus_Accident_total_data_2017_2025.csv\", index=False, encoding=\"utf-8-sig\")\n",
    "\n",
    "print(\"저장완료\")\n"
   ]
  },
  {
   "cell_type": "code",
   "execution_count": 5,
   "id": "7342eb30",
   "metadata": {},
   "outputs": [
    {
     "name": "stdout",
     "output_type": "stream",
     "text": [
      "저장 완료\n"
     ]
    }
   ],
   "source": [
    "#감전사고 + 재난사고\n",
    "import pandas as pd\n",
    "\n",
    "shock_df = pd.read_csv(\"data/first_processing_data/Electric_shock_accident_preprocessing.csv\", encoding=\"utf-8-sig\")\n",
    "disaster_df = pd.read_csv(\"data/first_processing_data/Disaster_Accident_preprocessing.csv\", encoding=\"utf-8-sig\")\n",
    "\n",
    "shock_df = shock_df.rename(columns={'시점': '년월', '사상자수': '감전사고_사상자수'})\n",
    "\n",
    "def normalize_ym(ym):\n",
    "    ym = str(ym).strip()\n",
    "    ym = ''.join(filter(str.isdigit, ym)).zfill(6)\n",
    "    return f\"{ym[:4]}-{ym[4:]}\"\n",
    "\n",
    "shock_df['년월'] = shock_df['년월'].apply(normalize_ym)\n",
    "disaster_df['년월'] = disaster_df['년월'].apply(normalize_ym)\n",
    "\n",
    "merged_df = pd.merge(disaster_df, shock_df, on=\"년월\", how=\"outer\")\n",
    "\n",
    "merged_df = merged_df.fillna(0)\n",
    "merged_df['감전사고_사상자수'] = merged_df['감전사고_사상자수'].astype(int)\n",
    "merged_df = merged_df.sort_values(by=\"년월\").reset_index(drop=True)\n",
    "merged_df.to_csv(\"data/merged_data/Disaster_Electric_total_data.csv\", index=False, encoding=\"utf-8-sig\")\n",
    "\n",
    "print(\"저장 완료\")"
   ]
  },
  {
   "cell_type": "code",
   "execution_count": null,
   "id": "252e11fa-c645-411c-8d12-10c4e727c5d3",
   "metadata": {},
   "outputs": [],
   "source": []
  }
 ],
 "metadata": {
  "kernelspec": {
   "display_name": "Python [conda env:base] *",
   "language": "python",
   "name": "conda-base-py"
  },
  "language_info": {
   "codemirror_mode": {
    "name": "ipython",
    "version": 3
   },
   "file_extension": ".py",
   "mimetype": "text/x-python",
   "name": "python",
   "nbconvert_exporter": "python",
   "pygments_lexer": "ipython3",
   "version": "3.12.7"
  }
 },
 "nbformat": 4,
 "nbformat_minor": 5
}
