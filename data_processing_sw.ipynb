{
 "cells": [
  {
   "cell_type": "code",
   "execution_count": 1,
   "id": "93e72aa3",
   "metadata": {},
   "outputs": [
    {
     "name": "stdout",
     "output_type": "stream",
     "text": [
      "저장 완료\n"
     ]
    }
   ],
   "source": [
    "#버스 데이터 전처리\n",
    "import pandas as pd\n",
    "\n",
    "bus_raw = pd.read_csv(\"data/raw_data/Seoul_bus.csv\", encoding=\"cp949\")\n",
    "dong_master = pd.read_csv(\"data/raw_data/Seoul_master_information.csv\", encoding=\"cp949\")\n",
    "\n",
    "bus_raw[\"년월\"] = bus_raw[\"기준_날짜\"].astype(str).str[:6]\n",
    "bus_raw[\"년월\"] = bus_raw[\"년월\"].str[:4] + \"-\" + bus_raw[\"년월\"].str[4:]\n",
    "\n",
    "bus_raw = bus_raw.rename(columns={\"행정동코드\": \"행정동_ID\"})  # 혹시 모를 이름 오류 대비\n",
    "dong_master = dong_master.rename(columns={\"자치구_명칭\": \"자치구\"})\n",
    "\n",
    "bus_merged = pd.merge(bus_raw, dong_master[[\"행정동_ID\", \"자치구\"]], on=\"행정동_ID\", how=\"left\")\n",
    "\n",
    "bus_grouped = (\n",
    "    bus_merged.groupby([\"자치구\", \"년월\"])[\"버스_승객_수\"]\n",
    "    .sum()\n",
    "    .reset_index()\n",
    "    .rename(columns={\"버스_승객_수\": \"버스승객수\"})\n",
    ")\n",
    "bus_grouped.to_csv(\"data/first_processing_data/Seoul_bus_preprocessing.csv\", index=False, encoding=\"utf-8-sig\")\n",
    "\n",
    "print(\"저장 완료\")"
   ]
  },
  {
   "cell_type": "code",
   "execution_count": 3,
   "id": "68e317ea",
   "metadata": {},
   "outputs": [
    {
     "name": "stdout",
     "output_type": "stream",
     "text": [
      "저장 완료\n"
     ]
    },
    {
     "name": "stderr",
     "output_type": "stream",
     "text": [
      "C:\\Users\\Admin\\anaconda3\\Lib\\site-packages\\openpyxl\\styles\\stylesheet.py:237: UserWarning: Workbook contains no default style, apply openpyxl's default\n",
      "  warn(\"Workbook contains no default style, apply openpyxl's default\")\n"
     ]
    }
   ],
   "source": [
    "#감전사고 전처리\n",
    "import pandas as pd\n",
    "\n",
    "\n",
    "file_path = \"data/raw_data/Electric_shock_accident.xlsx\" \n",
    "df = pd.read_excel(file_path, sheet_name='데이터')\n",
    "\n",
    "df_cleaned = df.iloc[2:].copy()\n",
    "\n",
    "df_cleaned.columns = [\n",
    "    '시점', '사망자수_소계', '사망자수_남성', '사망자수_여성', '사망자수_기타',\n",
    "    '부상자수_소계', '부상자수_남성', '부상자수_여성'\n",
    "]\n",
    "\n",
    "df_sasang = df_cleaned[['시점', '사망자수_소계']].copy()\n",
    "df_sasang.columns = ['시점', '사상자수']\n",
    "df_sasang = df_sasang[:-1]\n",
    "df_sasang['시점'] = df_sasang['시점'].astype(str).str.strip()\n",
    "df_sasang['사상자수'] = pd.to_numeric(df_sasang['사상자수'], errors='coerce')\n",
    "df_sasang = df_sasang.dropna()\n",
    "\n",
    "df_sasang.to_csv('data/first_processing_data/Electric_shock_accident_preprocessing.csv', index=False, encoding='utf-8-sig')\n",
    "print(\"저장 완료\")"
   ]
  },
  {
   "cell_type": "code",
   "execution_count": 5,
   "id": "1ef7933c",
   "metadata": {},
   "outputs": [
    {
     "name": "stdout",
     "output_type": "stream",
     "text": [
      "저장 완료\n"
     ]
    }
   ],
   "source": [
    "#재난사고 전처리\n",
    "import pandas as pd\n",
    "\n",
    "# 파일 경로\n",
    "file_path = \"data/raw_data/Disaster_Accident.csv\"\n",
    "\n",
    "# CSV 파일 불러오기 (EUC-KR 인코딩 사용)\n",
    "df = pd.read_csv(file_path, encoding='euc-kr')\n",
    "\n",
    "# 주간 날짜 범위에서 시작일 추출 후 datetime 형식으로 변환\n",
    "df['시작일'] = df['통계기준일'].str.split('~').str[0]\n",
    "df['시작일'] = pd.to_datetime(df['시작일'], format='%Y%m%d')\n",
    "\n",
    "# '년월' 컬럼 생성 → YYYY-MM 형식\n",
    "df['년월'] = df['시작일'].dt.strftime('%Y-%m')  # 예: 2013-01, 2021-10\n",
    "\n",
    "# 컬럼명 변경\n",
    "df.rename(columns={\n",
    "    '사고 건수(공사장,교통,화재)': '재난사고_사고건수',\n",
    "    '사망자수 (사망자+부상자)': '재난사고_사상자수'\n",
    "}, inplace=True)\n",
    "\n",
    "# 숫자형 변환\n",
    "df['재난사고_사고건수'] = pd.to_numeric(df['재난사고_사고건수'], errors='coerce')\n",
    "df['재난사고_사상자수'] = pd.to_numeric(df['재난사고_사상자수'], errors='coerce')\n",
    "\n",
    "# 월별 그룹화 및 합산\n",
    "monthly = df.groupby('년월')[['재난사고_사고건수', '재난사고_사상자수']].sum().reset_index()\n",
    "\n",
    "# CSV 파일로 저장\n",
    "monthly.to_csv(\"data/first_processing_data/Disaster_Accident_preprocessing.csv\", index=False, encoding='utf-8-sig')\n",
    "\n",
    "print(\"저장 완료\")"
   ]
  },
  {
   "cell_type": "code",
   "execution_count": null,
   "id": "df1404f7-60e3-43f2-a485-3d753f5f96cc",
   "metadata": {},
   "outputs": [],
   "source": []
  }
 ],
 "metadata": {
  "kernelspec": {
   "display_name": "Python [conda env:base] *",
   "language": "python",
   "name": "conda-base-py"
  },
  "language_info": {
   "codemirror_mode": {
    "name": "ipython",
    "version": 3
   },
   "file_extension": ".py",
   "mimetype": "text/x-python",
   "name": "python",
   "nbconvert_exporter": "python",
   "pygments_lexer": "ipython3",
   "version": "3.12.7"
  }
 },
 "nbformat": 4,
 "nbformat_minor": 5
}
